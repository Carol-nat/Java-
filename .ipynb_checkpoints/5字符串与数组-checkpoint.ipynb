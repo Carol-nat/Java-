{
 "cells": [
  {
   "cell_type": "markdown",
   "metadata": {},
   "source": [
    "## 1 字符串创建与存储机制\n",
    "    字符串的声明与初始化：\n",
    "    1 String s1 = new String(\"abc\") 创建了几个对象：一个或两个，常量池中有\"abc\",那么只创建一个对象；如果常量池中没有字符串\"abc\",就会创建两个对象\n",
    "    2 String s1 = \"abc\" 存储在常量池中，只此一份，不可更改，其他是对该对象的引用\n",
    "    "
   ]
  },
  {
   "cell_type": "markdown",
   "metadata": {},
   "source": [
    "## 2 \"==\",equals 和 hashCode有什么区别;\n",
    "    1 \"==\"用来比较变量对应的内存中所存储的数值是否相同，比较两个基本类型或两个引用变量是否相等，只能使用\"==\"运算符\n",
    "    2 equals是object类提供的方法之一，在不被覆盖的情况下，与\"==\"类似，比较的是引用，但equals可以被覆盖\n",
    "    3 hashCode()方法是从Object类中继承过来的，也用来鉴定两个对象是否相等，返回对象在内存中地址转换成的一个int值。任何对象的hashCode()方法都不相等"
   ]
  },
  {
   "cell_type": "markdown",
   "metadata": {},
   "source": [
    "## 3 String, StringBuffer, StringBuilder 和 StringTokenizer区别：\n",
    "    1 String 是不可变类，String 对象一旦被创建，其值将不能被改变，因此使用在共享的场合，两种初始化方式\n",
    "    2 StringBuffer是可变类，当对象创建后仍然可以对其值进行修改，因此使用在频繁更改字符串时，只能用构造函数初始化\n",
    "    3 StringBuilder 与 StringBuffer类似，都是字符串缓冲区，StringBuilder不是线程安全的，单线程中使用效率更高，但在多线程中使用时，最好使用线程安全的StringBuffer\n",
    "    \n",
    "    执行效率方面，StringBuilder最高，StringBuffer次之，String最低\n",
    "    \n",
    "    4 StringTokenizer 用来分隔字符串的工具类"
   ]
  },
  {
   "cell_type": "markdown",
   "metadata": {},
   "source": [
    "## 4 数组的初始化方式：\n",
    "    一维数组：\n",
    "    type arrayName[] 或 type[] arrayName\n",
    "    二维数组：\n",
    "    type arrayName[][];\n",
    "    type[][] arrayName;\n",
    "    type[] arrayName[];"
   ]
  },
  {
   "cell_type": "markdown",
   "metadata": {},
   "source": [
    "## 5 length属性和length()方法有什么区别：\n",
    "    Java语言提供length属性来获取数组的长度，\n",
    "    length()方法是针对字符串而言的，String提供了length()方法来计算字符串的长度"
   ]
  },
  {
   "cell_type": "code",
   "execution_count": null,
   "metadata": {},
   "outputs": [],
   "source": []
  }
 ],
 "metadata": {
  "kernelspec": {
   "display_name": "Python 3",
   "language": "python",
   "name": "python3"
  },
  "language_info": {
   "codemirror_mode": {
    "name": "ipython",
    "version": 3
   },
   "file_extension": ".py",
   "mimetype": "text/x-python",
   "name": "python",
   "nbconvert_exporter": "python",
   "pygments_lexer": "ipython3",
   "version": "3.6.8"
  }
 },
 "nbformat": 4,
 "nbformat_minor": 2
}
