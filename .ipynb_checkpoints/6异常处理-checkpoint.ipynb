{
 "cells": [
  {
   "cell_type": "markdown",
   "metadata": {},
   "source": [
    "## 1 finally 块中的代码什么时候被执行：\n",
    "    finally块的作用是为了保证无论发生什么情况，finally块里的代码一定会被执行\n",
    "    finally块中的代码也是在return之前被执行，如果finally块中有return语句，那么其他的会被覆盖，返回的是finally中的return语句\n",
    "    \n",
    "    finally块是不是一定会被执行：不一定\n",
    "    1 程序在进入try语句块之前出现异常，会直接结束，不会执行finally块\n",
    "    2 程序在try块中强制退出时也不会执行finally块中的代码"
   ]
  },
  {
   "cell_type": "markdown",
   "metadata": {},
   "source": [
    "## 2 异常处理的原理是什么：\n",
    "    异常是程序运行时所发生的非正常情况或错误，当程序违反语义规则时，JVM会将出现的错误表示为一个异常并抛出。为了提高程序的安全性和鲁棒性\n",
    "    \n",
    "    Java语言将异常当作对象来处理，并定义一个基类java.lang.Throwable作为所有异常的父类。异常可以分为Error和Exception"
   ]
  },
  {
   "cell_type": "markdown",
   "metadata": {},
   "source": [
    "## 3 运行时异常和普通异常的区别：\n",
    "    Error表示程序在运行期间出现了非常严重的错误，不可恢复，这类错误会终止程序运行。\n",
    "    Exception 表示可恢复异常，是编译器可以捕捉到的，包括检测异常和运行时异常\n",
    "    检测异常：常见的IO和SQL异常\n",
    "    1 异常的发生并不会导致程序出错，进行处理后可以继续执行后续的操作\n",
    "    2 程序依赖于不可靠的外部条件\n",
    "    \n",
    "    运行时异常\n",
    "    编译器没有强制对其进行捕获并处理，必须对运行时异常进行处理\n",
    "    异常处理时应该注意的问题：\n",
    "        1 Java异常处理用到了多态的概念，在异常捕获时，应先捕获子类，再捕获基类的异常信息\n",
    "        2 尽早抛出异常，同时对捕获的异常进行处理，或者从错误中恢复，或者让程序继续执行\n",
    "        3 可以根据实际的需求自定义异常类\n",
    "        4 异常能处理就处理，不能处理就抛出\n",
    "        "
   ]
  },
  {
   "cell_type": "code",
   "execution_count": null,
   "metadata": {},
   "outputs": [],
   "source": []
  }
 ],
 "metadata": {
  "kernelspec": {
   "display_name": "Python 3",
   "language": "python",
   "name": "python3"
  },
  "language_info": {
   "codemirror_mode": {
    "name": "ipython",
    "version": 3
   },
   "file_extension": ".py",
   "mimetype": "text/x-python",
   "name": "python",
   "nbconvert_exporter": "python",
   "pygments_lexer": "ipython3",
   "version": "3.6.8"
  }
 },
 "nbformat": 4,
 "nbformat_minor": 2
}
