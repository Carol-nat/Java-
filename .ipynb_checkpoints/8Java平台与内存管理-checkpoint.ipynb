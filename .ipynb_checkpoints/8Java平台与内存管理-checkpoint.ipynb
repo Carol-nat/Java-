{
 "cells": [
  {
   "cell_type": "markdown",
   "metadata": {},
   "source": [
    "## 1 为什么说Java时平台独立性语言：\n",
    "    保证Java具有平台独立性的机制为“中间码”和Java虚拟机。不同的硬件平台上会安装不同的JVM，由JVM来解释执行中间码，JVM不具有平台独立性\n",
    "    解释执行分为三个步骤：\n",
    "        1 代码的装入（类装载器完成）\n",
    "        2 代码的校验（字节校验码进行校验）\n",
    "        3 代码的执行（两种：即时编译方式，解释执行方式--每次解释并执行一小段代码来完成Java字节码程序的所有操作）\n",
    "        "
   ]
  },
  {
   "cell_type": "markdown",
   "metadata": {},
   "source": [
    "## 2 Java平台与其他语言有哪些区别：\n",
    "    Java平台是一个纯软件的平台，这个平台运行在一些基于硬件的平台之上，Java平台主要包括两个模块：JVM 和 Java API"
   ]
  },
  {
   "cell_type": "markdown",
   "metadata": {},
   "source": [
    "## 3 JVM加载class文件的机制是什么：\n",
    "    Java语言是一种具有动态性的解释性语言，类只有被加载到JVM中后才能运行。当运行指定程序时，JVM会将编译生成的.class文件按照需求和一定的规则加载到内存中，并组织成为一个完整的Java程序。\n",
    "    该加载过程是由类加载器来完成，ClassLoader和它的子类来实现。类加载器本身也是个类，其实质是把类文件从硬盘读取到内存中\n",
    "    类的加载方式：\n",
    "        隐式加载：程序在使用new等方式创建对象时，会隐式地调用类加载器把对应的类加载到JVM中\n",
    "        显示加载：直接调用class.forName()方法来把所需的类加载到JVM中\n",
    "        \n",
    "    类是动态加载的，不会一次性加载所有的类，，而是首先加载保证程序运行的基础类，其他类需要时才加载"
   ]
  },
  {
   "cell_type": "markdown",
   "metadata": {},
   "source": [
    "## 4 什么是GC\n",
    "    在Java语言中，垃圾回收的作用是回收程序中不再使用的内存\n",
    "    垃圾回收器要负责3项任务：\n",
    "        1 分配内存\n",
    "        2 确保被引用对象的内存不被错误的回收\n",
    "        3 回收不再被引用的对象的内存空间\n",
    "        \n",
    "    垃圾回收的算法：\n",
    "        1 引用计数算法\n",
    "        2 追踪回收算法\n",
    "        3 压缩回收算法\n",
    "        4 复制回收算法\n",
    "        5 按代回收算法"
   ]
  },
  {
   "cell_type": "markdown",
   "metadata": {},
   "source": [
    "## 5 Java是否存在内存泄露问题：\n",
    "    内存泄漏是指一个不再被程序使用的对象或变量还在内存中占有存储空间\n",
    "    内存泄漏主要有两种情况：一是堆中申请的空间没有被释放，二是对象已不再被使用，但还仍然在内存中保留着。Java语言的内存泄漏主要指的是第二种情况\n",
    "    引起内存泄漏的原因：\n",
    "        1 静态集合类。（HashMap和Vector）\n",
    "        2 各种连接，例如数据库连接，网络连结，IO连接。\n",
    "        3 监听器。使用完监听器之后没有及时的删除监听器\n",
    "        4 变量不合理的作用域。（定义范围大于其作用范围，没有及时的把对象设置为空）\n",
    "        5 单例模式可能会造成内存泄漏"
   ]
  },
  {
   "cell_type": "markdown",
   "metadata": {},
   "source": [
    "## 6 Java中的堆和栈有什么区别：\n",
    "    堆和栈都是存放数据地方，\n",
    "    基本类型的变量以及对象的引用变量其内存都分配在栈上，变量出了作用域就自动释放\n",
    "    引用类型的变量，其内存分配在堆上或者常量池中，需要通过new等方法进行创建\n",
    "    \n",
    "    栈内存主要存放基本数据类型和引用变量（栈中特殊变量的取值指向数组或者对象的首地址，该变量就是对象的引用变量）\n",
    "    堆内存用来存放运行时创建的对象，一般来讲，用new关键字创建出来的对象都存放在堆中。"
   ]
  },
  {
   "cell_type": "code",
   "execution_count": null,
   "metadata": {},
   "outputs": [],
   "source": []
  }
 ],
 "metadata": {
  "kernelspec": {
   "display_name": "Python 3",
   "language": "python",
   "name": "python3"
  },
  "language_info": {
   "codemirror_mode": {
    "name": "ipython",
    "version": 3
   },
   "file_extension": ".py",
   "mimetype": "text/x-python",
   "name": "python",
   "nbconvert_exporter": "python",
   "pygments_lexer": "ipython3",
   "version": "3.6.8"
  }
 },
 "nbformat": 4,
 "nbformat_minor": 2
}
