{
 "cells": [
  {
   "cell_type": "markdown",
   "metadata": {},
   "source": [
    "## 1 变量命名规则：\n",
    "    标识符只能由字母，数字，下划线，$组成，并且第一个字符不能为数字，不能由空白字符。Java保留着不能作为标识符，变量名区分大小写"
   ]
  },
  {
   "cell_type": "markdown",
   "metadata": {},
   "source": [
    "## 2 break，continue以及return有什么区别：\n",
    "    1 break 用于直接强行跳出当前循环，不再执行剩余代码\n",
    "    2 continue 用于停止当次循环，进行下一次循环。\n",
    "    3 return 用来表示一个方法的返回，可以使程序控制返回到调用该方法的地方"
   ]
  },
  {
   "cell_type": "markdown",
   "metadata": {},
   "source": [
    "## 3 final，finally，finalize的区别：\n",
    "    1 final用于声明属性，方法和类，分别表示属性不可变，方法不可覆盖和类不可继承\n",
    "        final修饰的变量必须被初始化：初始化方法：\n",
    "            1) 定义的时候初始化\n",
    "            2) 初始化块中初始化，但不可在静态初始化块中初始化\n",
    "            3) 静态final可以在静态初始化块中初始化。\n",
    "            4) 类的构造器中初始化\n",
    "        final 方法：不容许任何子类重写这个方法，但可以使用这个方法\n",
    "        final参数：参数在函数内部不容许被修改\n",
    "        final类：类不能被继承，所有方法不能被重写\n",
    "    2 finally 作为异常处理的一部分，只能用在try/catch中，标志这段语句最终一定执行\n",
    "    3 finalize 是 Object类的一个方法，在垃圾回收器执行时会调用回收对象的finalize（）方法，可以覆盖此方法来实现对资源的回收。"
   ]
  },
  {
   "cell_type": "markdown",
   "metadata": {},
   "source": [
    "## 4 assert 有什么作用：\n",
    "    assert（断言）是软件调试的方法，主要作用是对一个Boolean表达式进行检查，一个正确运行的Boolean表达式为true。在实际的开发中，assert主要用来保证程序的正确性。，默认关闭\n",
    "    两种表达式：\n",
    "        assert expression1 and assert expression1：expression2，expression1是一个boolean表达式，第二个可以是基本类型"
   ]
  },
  {
   "cell_type": "markdown",
   "metadata": {},
   "source": [
    "## 5 static 关键字有什么作用：\n",
    "    1 为某特定数据类型或对象分配单一的存储空间，而与创建对象的个数无关\n",
    "    2 实现某个方法或属性与类而不是对象关联在一起，即不创建对象的情况下就可以通过类来直接调用方法或使用类的属性\n",
    "    3 static一个很重要的用途就是实现单例模式，单例模式的特点是该类只有一个实例\n",
    "    4 不能在成员函数内部定义static变量\n",
    "    "
   ]
  },
  {
   "cell_type": "markdown",
   "metadata": {},
   "source": [
    "## 6 使用switch有哪些注意事项：\n",
    "    switch用于多分枝结构，switch（expr）时，expr只能是一个枚举常量或者整数表达式，其中整数表达式可以是基本类型int或其对应的包装类Integer\n",
    "    Case String变量不能为空，同时，switch的case子句中使用的字符也不能为空"
   ]
  },
  {
   "cell_type": "markdown",
   "metadata": {},
   "source": [
    "## 7 volatile 有什么用;\n",
    "    volatile 是一个类型修饰符，被设计用来修饰被不同线程访问和修改的变量。被volatile类型定义的变量，系统每次用到它时都是直接从对应的内存中提取，而不会利用缓存。volatile修饰成员变量后，所有线程在任何时候看到的值都是一样的。不能替代sychronized"
   ]
  },
  {
   "cell_type": "markdown",
   "metadata": {},
   "source": [
    "## 8 intanceof有什么作用;\n",
    "    判断一个引用类型的变量所指向的对象是否是一个类（接口，抽象类，父类）的实例，即它左边的对象是否是它右边的类的实例该运算符返回boolean类型的数据"
   ]
  },
  {
   "cell_type": "markdown",
   "metadata": {},
   "source": [
    "## 9 strictfp有什么作用：\n",
    "    是strict float point 的缩写，指的是精确浮点，用来确保浮点数运算的准确性"
   ]
  },
  {
   "cell_type": "code",
   "execution_count": null,
   "metadata": {},
   "outputs": [],
   "source": []
  }
 ],
 "metadata": {
  "kernelspec": {
   "display_name": "Python 3",
   "language": "python",
   "name": "python3"
  },
  "language_info": {
   "codemirror_mode": {
    "name": "ipython",
    "version": 3
   },
   "file_extension": ".py",
   "mimetype": "text/x-python",
   "name": "python",
   "nbconvert_exporter": "python",
   "pygments_lexer": "ipython3",
   "version": "3.6.8"
  }
 },
 "nbformat": 4,
 "nbformat_minor": 2
}
