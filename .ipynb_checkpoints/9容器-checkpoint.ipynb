{
 "cells": [
  {
   "cell_type": "markdown",
   "metadata": {},
   "source": [
    "## 1 Java Collections框架是什么：\n",
    "    Java Collecitons框架包含了大量集合接口以及这些接口的实现类和操作他们的算法。主要提供了List，Quene，Set，Stack， Map等数据结构。\n",
    "    Set，List，Map三个接口：\n",
    "        1 Set 集合，集合中的数据不能重复，存入Set的每个元素都必须定义equals（）方法来确保对象的唯一性。两个实现类：HashSet，TreeSet\n",
    "        2 List 有序的Collection。按对象进入的顺序保存对象，可以保存重复的对象，即允许对象是重复的。LinkedList，ArrayList，Vector都实现了List接口\n",
    "        3 Map提供了一个从键映射到值的数据结构，保存键值对，其值可以重复，但是键是唯一的。HashMap是基于散列表实现的，采用对象的HashCode可以进行快速查询"
   ]
  },
  {
   "cell_type": "markdown",
   "metadata": {},
   "source": [
    "## 2 什么是迭代器：\n",
    "    迭代器是一个对象，其工作是遍历并选择序列中的对象，提供了一种访问一个容器对象中的各个元素，而又不必暴露该对象内部细节的方法。\n",
    "    迭代器的三个注意事项：\n",
    "        1 使用容器的iterator()方法返回一个Iterator，然后通过Iterator的next()方法返回第一个元素。\n",
    "        2 使用Iterator 的hasNext() 方法判断容器中是否还有元素，用next()方法获取下一个元素\n",
    "        3 通过remove()方法删除迭代器返回的元素\n",
    "    Iterator 与 ListIterator有什么区别：\n",
    "        Iterator只能正向遍历集合，适用于获取移除元素。ListIterator继承自Iterator，专门针对List，可以从两个方向来遍历List，同时支持元素的修改\n",
    "        \n",
    "    多线程访问容器：\n",
    "        1 采用线程安全的容器来代替非线程安全的容器\n",
    "        2 在使用迭代器遍历容器时，对容器的操作放到synchrized代码中"
   ]
  },
  {
   "cell_type": "markdown",
   "metadata": {},
   "source": [
    "## 3 ArrayList Vector，和LinkedList有什么区别：\n",
    "    都是可伸缩数组，即可以动态改变长度的数组\n",
    "    ArrayList和Vector都是基于存储元素的Object[] array来实现的，他们会在内存中开辟一块连续的空间来存储。其存储的长度可以动态的扩充，Vector默认扩充原来的2倍，ArrayList默认扩充原来的1.5倍\n",
    "    \n",
    "    ArrayList 和 Vector最大的区别在于：synchronization（同步）的使用，没有一个arrayList的方法是同步的，而Vector的绝大多数方法都是直接或者间接同步的。于是Vector是线程安全的，而Array List是非线程安全的。\n",
    "    \n",
    "    LinkedList是采用双向链表实现的，对数据的索引是从列表头开始遍历，访问效率比较低。插入效率比较高，而且是非线程安全的。"
   ]
  },
  {
   "cell_type": "markdown",
   "metadata": {},
   "source": [
    "## 4 HashMap,Hashtable,TreeMap和WeakHashMap有哪些区别：\n",
    "    \n",
    "    1 HashMap 是Hashtable的轻量级实现，他们都是完成了Map接口，主要区别在于：HashMap允许空键值（只允许一条记录的键值为空，不允许多条），Hashtable不允许\n",
    "    2 HashMap把Hashtable的contains方法去掉了，改成了containsvalue，和containskey，Hashtable继承了了Dictionary类\n",
    "    3 Hashtable是线程安全的，而HashMap是非线程安全的，不支持线程的同步。\n",
    "    4 Hashtable使用Enumeration，HashMap使用Iterator\n",
    "    5 Hash他变了中，hash数组默认大小为11，增加方式为old*2+1，HashMap 中，hash数组默认为16，而且一定是2的指数\n",
    "    \n",
    "    \n",
    "    TreeMap实现了SortMap接口，能够将保存到额记录根据键值排序\n",
    "    \n",
    "    WeakHashMap：其键采用弱引用的方式，只要WeakHashMap中的key不再被外部引用，就可以被垃圾回收器回收。"
   ]
  },
  {
   "cell_type": "markdown",
   "metadata": {},
   "source": [
    "## 5 Collection和Collections有什么去区别：\n",
    "    Collection是一个集合接口，它提供了对集合对象进行基本操作的通用接口方法。\n",
    "    Collections是针对集合类的一个包装类，它提供了一系列静态方法以实现对各种集合的搜索，排序，线程安全等操作。Collections类不能实例化，如同一个工具类"
   ]
  },
  {
   "cell_type": "code",
   "execution_count": null,
   "metadata": {},
   "outputs": [],
   "source": []
  }
 ],
 "metadata": {
  "kernelspec": {
   "display_name": "Python 3",
   "language": "python",
   "name": "python3"
  },
  "language_info": {
   "codemirror_mode": {
    "name": "ipython",
    "version": 3
   },
   "file_extension": ".py",
   "mimetype": "text/x-python",
   "name": "python",
   "nbconvert_exporter": "python",
   "pygments_lexer": "ipython3",
   "version": "3.6.8"
  }
 },
 "nbformat": 4,
 "nbformat_minor": 2
}
