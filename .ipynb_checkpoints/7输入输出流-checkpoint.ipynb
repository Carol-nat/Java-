{
 "cells": [
  {
   "cell_type": "markdown",
   "metadata": {},
   "source": [
    "## 1 Java IO流的实现机制是什么：\n",
    "\n",
    "    流可以分为两大类：字节流和字符流\n",
    "    字节流（8bit）包含两个抽象类：InputStream 和 OutputStream\n",
    "    字符流（16bit）包含两个抽象类：Reader 和 Writer\n",
    "    \n",
    "    两者最主要的区别是：字节流在处理输入输出时不会用到缓存，而字符流用到了缓存"
   ]
  },
  {
   "attachments": {},
   "cell_type": "markdown",
   "metadata": {},
   "source": [
    "## 2 管理文件和目录的类是什么：\n",
    "    Java提供了一个File类来管理文件和文件夹，通过类不仅可以查看文件或目录的属性，而且还可以实现对文件和和目录的创建删除和重命名\n",
    "   "
   ]
  },
  {
   "cell_type": "markdown",
   "metadata": {},
   "source": [
    "## 3 Java Socket是什么：\n",
    "    网络上的两个程序通过一个双向的通信连接实现数据交换，这个双向链接的一端称为一个Socket，也成为套接字，用来实现不同虚拟机或不同计算机之间的通信\n",
    "    Socket分为两种类型：\n",
    "        1 面向连接的Socket通信协议：TCP 传输控制协议\n",
    "        2 面向无连接的Socket通信协议：UDP 用户数据报协议\n",
    "    Socket生命周期分为三个阶段：\n",
    "        1 打开Socket\n",
    "        2 使用Socket收发数据\n",
    "        3 关闭Socket"
   ]
  },
  {
   "cell_type": "markdown",
   "metadata": {},
   "source": [
    "## 4 Java NIO是什么：\n",
    "    非阻塞IO出现之前，Java是通过传统的Socket来实现基本的网络通信功能，但是这种传输在多线程的情况下由于阻塞而导致效率低下，\n",
    "    \n",
    "    NIO使通过Selector，Channel和Buffer来实现非阻塞的IO操作\n",
    "    NIO非阻塞的实现主要是采用Reactor（反应器）设计模式，这个设计模式与Observer（观察者）设计模式类似，只不过Observer设计模式只能处理一个事件源，而Reactor设计模式可以处理多个事件源。\n",
    "    \n",
    "    采用轮询的方式处理多线程请求时不需要上下文切换\n",
    "    \n",
    "    NIO在网络编程中有着非常重要的作用，其采用了非阻塞的方式，在处理大量并发请求时，使用NIO有着很高的效率。"
   ]
  },
  {
   "cell_type": "markdown",
   "metadata": {},
   "source": [
    "## 5 什么是Java序列化\n",
    "    Java 提供了两种对象持久化的方法：序列化和外部序列化\n",
    "    序列化：是一种将对象以一连串的字节描述的过程，用于解决在对对象流进行读写操作时所引发的问题\n",
    "        序列化可以将对象的状态写进流里进行网络传输\n",
    "        实现序列化的类必须实现Serializable接口\n",
    "        两个特点：\n",
    "            1 如果一个类能被序列化，那么它的子类也能被序列化\n",
    "            2 由于静态代表类的成员，transient代表对象的临时数据，因此被声明为这两种类型的数据成员是不能被序列化的\n",
    "        什么情况下需要被序列化：\n",
    "            1 需要通过网络来发送对象，或数据的状态需要被持久化到数据库或文件中\n",
    "            2 序列化能实现深复制，即可以复制引用的对象\n",
    "            \n",
    "     外部序列化：\n",
    "         与序列化的主要区别在于：序列化时内置的API，只需要实现Serializable接口即可。外部序列化中，Externalizable接口中的读写方法需要开发人员自己去实现，难度较大\n",
    "         \n",
    "         transient修饰的属性不能被序列化\n",
    "        "
   ]
  },
  {
   "cell_type": "code",
   "execution_count": null,
   "metadata": {},
   "outputs": [],
   "source": []
  }
 ],
 "metadata": {
  "kernelspec": {
   "display_name": "Python 3",
   "language": "python",
   "name": "python3"
  },
  "language_info": {
   "codemirror_mode": {
    "name": "ipython",
    "version": 3
   },
   "file_extension": ".py",
   "mimetype": "text/x-python",
   "name": "python",
   "nbconvert_exporter": "python",
   "pygments_lexer": "ipython3",
   "version": "3.6.8"
  }
 },
 "nbformat": 4,
 "nbformat_minor": 2
}
