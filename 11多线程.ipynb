{
 "cells": [
  {
   "cell_type": "markdown",
   "metadata": {},
   "source": [
    "## 1 什么是线程，它与进程有什么区别，为什么使用多线程？\n",
    "    1 线程是指程序在执行过程中，能够执行程序代码的一个执行单元，Java语言中，有4种状态，运行，就绪，挂起，结束，线程时程序执行的最小单元\n",
    "    2 进程是指一段正在执行的程序，一个进程可以拥有多个线程，各个线程之间共享程序的内存空间（代码段，数据段，堆空间），但是各个线程拥有自己的栈空间\n",
    "    \n",
    "    为什么要使用线程：\n",
    "        1 使用多线程可以减少程序的响应时间\n",
    "        2 与进程相比，线程的创建和切换开销更小。\n",
    "        3 多CPU或多核计算机本身就具有执行多线程的能力\n",
    "        4 使用多线程能简化程序的结构，使程序便于理解维护"
   ]
  },
  {
   "cell_type": "markdown",
   "metadata": {},
   "source": [
    "## 2 同步和异步有什么区别：\n",
    "\n",
    "    同步：当多个线程需要访问同一个资源时，他们需要以某种顺序来确保该资源在某一时刻只能被一个线程使用。同步机制能够保证线程的安全。\n",
    "    \n",
    "    sychronized。实现同步的两种方式：第一，利用同步代码块来实现同步，第二，利用同步方法来实现同步\n",
    "    \n",
    "    异步：在进行输入输出时，不必关心其他线程的状态与行为，也不必等到输入输出处理完毕才返回。"
   ]
  },
  {
   "cell_type": "markdown",
   "metadata": {},
   "source": [
    "## 3 如何实现Java多线程\n",
    "    1 继承Thread类，重写run()方法，启动线程的唯一方法就是通过Thread类的start方法\n",
    "    2 实现Runnable接口，并实现该接口的run()方法。\n",
    "        步骤：\n",
    "        自定义类并实现Runnable接口，实现run()方法\n",
    "        创建Thread对象，用实现Runnable接口的对象作为参数实例化该Thread对象。new Thread(MyThread)\n",
    "        调用Thread的start方法\n",
    "    3 实现Callable接口，重写call()方法\n",
    "    "
   ]
  },
  {
   "cell_type": "markdown",
   "metadata": {},
   "source": [
    "## 4 run() 方法与 start()方法区别：\n",
    "    系统通过调用线程类的start()方法来启动一个线程，此时该线程处于就绪状态，而非运行状态，也就意味着这个线程可以被Jvm来调度执行。JVM通过调用线程类的run方法类来完成实际操作，当run方法结束，此线程也就结束。\n",
    "    如果直接调用线程类的run方法，会被当做一个普通的函数调用。\n",
    "    start()方法能够异步调用run()方法，但是直接调用run()方法却是同步的。"
   ]
  },
  {
   "cell_type": "markdown",
   "metadata": {},
   "source": [
    "## 5 多线程同步的实现方法有哪些：\n",
    "    三种实现同步机制的方法:\n",
    "    1 synchronization关键字 synchronized方法和synchronized块，可以将任意的代码段声明为synchronized"
   ]
  },
  {
   "cell_type": "code",
   "execution_count": null,
   "metadata": {},
   "outputs": [],
   "source": []
  }
 ],
 "metadata": {
  "kernelspec": {
   "display_name": "Python 3",
   "language": "python",
   "name": "python3"
  },
  "language_info": {
   "codemirror_mode": {
    "name": "ipython",
    "version": 3
   },
   "file_extension": ".py",
   "mimetype": "text/x-python",
   "name": "python",
   "nbconvert_exporter": "python",
   "pygments_lexer": "ipython3",
   "version": "3.6.8"
  }
 },
 "nbformat": 4,
 "nbformat_minor": 2
}
