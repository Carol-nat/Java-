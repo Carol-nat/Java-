{
 "cells": [
  {
   "cell_type": "markdown",
   "metadata": {},
   "source": [
    "## Java 语言优点：\n",
    "    1 Java为纯面向对象的语言\n",
    "    2 平台无关性（跨平台执行，很好的可移植性）\n",
    "    3 Java 提供了很多内置的类库\n",
    "    4 提供了对Web应用开发的支持\n",
    "    5 具有较好的安全性和健壮性\n",
    "    6 去除了C++语言中难以理解、容易混淆的特性"
   ]
  },
  {
   "cell_type": "markdown",
   "metadata": {},
   "source": [
    "## Java与c/c++的异同：\n",
    "    1 Java为解释性语言，编译成字节码，jvm解释执行。c/c++为编译型语言，生成可执行的二进制代码，Java可跨平台执行。\n",
    "    2 Java为面向对象语言，所有代码在类中实现，除基本类型外，所有类型都是类，Java语言中不存在全局变量和全局函数\n",
    "    3 与c/c++相比，Java没有指针的概念\n",
    "    4 与c++相比，Java语言不支持多重继承，但是Java语言引入了接口的概念，可以同时实现多个接口\n",
    "    5 Java语言提供了垃圾回收机制，而C++需要开发人员管理内存分配\n",
    "    6 c++语言支持运算符重载，而Java不支持；c++支持预处理，而Java没有预处理器。Java不支持自动强制类型转换"
   ]
  },
  {
   "cell_type": "markdown",
   "metadata": {},
   "source": [
    "## 如何实现在main()方法前输出“Hello world”\n",
    "    Java语言中静态代码块在类被加载时就会被调用，静态代码块可以在main()方法执行之前执行"
   ]
  },
  {
   "cell_type": "markdown",
   "metadata": {},
   "source": [
    "## Java程序初始化的顺序时：\n",
    "    1 静态对象优先于非静态对象初始化，静态对象只初始化一次，非静态对象可能会初始化多次\n",
    "    2 父类优先于子类进行初始化\n",
    "    3 按照成员变量的定义顺序进行初始化\n",
    "    \n",
    "    Java程序初始化执行的顺序：父类静态变量，父类静态代码块，子类静态变量，子类静态代码块，子类非静态变量，父类非静态代码块，父类构造函数，子类非静态变量，子类非静态代码块，子类构造函数"
   ]
  },
  {
   "cell_type": "markdown",
   "metadata": {},
   "source": [
    "## Java中的作用域\n",
    "    成员变量：作用范围和类的实例化对象的作用范围相同\n",
    "        public：对所有类或对象可见\n",
    "        private：只有当前类具有访问权限\n",
    "        protected：当前类及其子类，以及同一个包内的所以类可见\n",
    "        default：当前类和同一包中的类可见\n",
    "    静态变量：不依赖于特定的实例，被所有实例所共享\n",
    "    局部变量：作用域在花括号内\n",
    "    "
   ]
  },
  {
   "cell_type": "markdown",
   "metadata": {},
   "source": [
    "## 为什么Java中有些接口没有任何方法\n",
    "    接口中只包含方法的定义，没有方法的实现：接口中的所有方法都是抽象的。接口中成员的作用域修饰符都是public，接口中的常量值默认为public static final修饰\n",
    "    \n",
    "    Java中，有些接口中没有声明任何方法，这类接口只作为标识接口使用，用来表明他的类属于一个特定的类型\n",
    "    \n",
    "    interface 只能用public来修饰"
   ]
  },
  {
   "cell_type": "markdown",
   "metadata": {},
   "source": [
    "## 深复制和浅复制有什么区别：\n",
    "    浅复制：被复制对象的所有变量都含有与原来对象相同的值，而所有对其他对象的引用任然指向原来的对象。浅复制仅仅复制所考虑的对象，而不复制它所引用的对象\n",
    "    \n",
    "    深复制：被复制的所有对象都含有与原来对象相同的值，除去那些引用其他对象的变量，深复制将复制的对象所引用的对象都复制了一遍"
   ]
  },
  {
   "cell_type": "markdown",
   "metadata": {},
   "source": [
    "## 什么是反射机制\n",
    "    允许程序在运行时进行自我检查，同时也允许其对内部的成员进行操作\n",
    "    反射机制提供的功能：\n",
    "        得到一个对象所属的类\n",
    "        获取一个类的所有成员变量和方法\n",
    "        在运行时创建对象\n",
    "        在运行时调用对象的方法"
   ]
  },
  {
   "cell_type": "markdown",
   "metadata": {},
   "source": [
    "## 如何获得Class类：\n",
    "    1 Class.forname(\"类的路径\")\n",
    "    2 类名.Class\n",
    "    3 实例.getClass()\n",
    "    \n",
    "## 创建对象的方式有几种：\n",
    "    4种：new， 反射机制创建，clone方法创建对象，反序列化创建对象"
   ]
  },
  {
   "cell_type": "markdown",
   "metadata": {},
   "source": [
    "## 如何实现类似于C中函数指针的功能\n",
    "    利用接口和类来实现，先定义一个接口，然后在接口中声明要调用的方法，接着实现这个接口，最后把这个实现类的一个对象作为参数传递给调用程序，调用程序通过这个参数来调用指定的函数，从而实现函数的回调功能"
   ]
  },
  {
   "cell_type": "code",
   "execution_count": null,
   "metadata": {},
   "outputs": [],
   "source": []
  }
 ],
 "metadata": {
  "kernelspec": {
   "display_name": "Python 3",
   "language": "python",
   "name": "python3"
  },
  "language_info": {
   "codemirror_mode": {
    "name": "ipython",
    "version": 3
   },
   "file_extension": ".py",
   "mimetype": "text/x-python",
   "name": "python",
   "nbconvert_exporter": "python",
   "pygments_lexer": "ipython3",
   "version": "3.6.8"
  }
 },
 "nbformat": 4,
 "nbformat_minor": 2
}
